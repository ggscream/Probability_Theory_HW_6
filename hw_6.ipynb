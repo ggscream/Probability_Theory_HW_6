{
 "cells": [
  {
   "cell_type": "markdown",
   "metadata": {},
   "source": [
    "**1. Известно, что генеральная совокупность распределена нормально со средним квадратическим отклонением, равным 16. Найти доверительный интервал для оценки математического ожидания a с надежностью 0.95, если выборочная средняя M = 80, а объем выборки n = 256.**"
   ]
  },
  {
   "attachments": {},
   "cell_type": "markdown",
   "metadata": {},
   "source": [
    "X +- z(alpha/2) * sigma / sqrt(n)"
   ]
  },
  {
   "cell_type": "code",
   "execution_count": 1,
   "metadata": {},
   "outputs": [
    {
     "name": "stdout",
     "output_type": "stream",
     "text": [
      "78.04003601545995\n",
      "81.95996398454005\n"
     ]
    }
   ],
   "source": [
    "import numpy as np\n",
    "import scipy.stats as stats\n",
    "M = 80\n",
    "n = 256\n",
    "sigma = 16\n",
    "Z = stats.norm.ppf(0.975)\n",
    "\n",
    "print(M - Z * sigma/np.sqrt(n))\n",
    "print(M + Z * sigma/np.sqrt(n))"
   ]
  },
  {
   "attachments": {},
   "cell_type": "markdown",
   "metadata": {},
   "source": [
    "Доверительный 95% интервал для оценки мат. ожидания = [78.04, 81.96]"
   ]
  },
  {
   "attachments": {},
   "cell_type": "markdown",
   "metadata": {},
   "source": [
    "**2. В результате 10 независимых измерений некоторой величины X, выполненных с одинаковой точностью, получены опытные данные:**\n",
    "**6.9, 6.1, 6.2, 6.8, 7.5, 6.3, 6.4, 6.9, 6.7, 6.1**\n",
    "\n",
    "**Предполагая, что результаты измерений подчинены нормальному закону распределения вероятностей, оценить истинное значение величины X при помощи доверительного интервала, покрывающего это значение с доверительной вероятностью 0,95.**"
   ]
  },
  {
   "cell_type": "code",
   "execution_count": 2,
   "metadata": {},
   "outputs": [
    {
     "data": {
      "text/plain": [
       "(6.268, 6.912)"
      ]
     },
     "execution_count": 2,
     "metadata": {},
     "output_type": "execute_result"
    }
   ],
   "source": [
    "import numpy as np\n",
    "import scipy.stats as stats\n",
    "\n",
    "\n",
    "def confidence_interval(x, alpha=0.05):\n",
    "    n = len(x)\n",
    "    mu = np.mean(x)\n",
    "    sigma = np.std(x, ddof=1)\n",
    "    t = stats.t.ppf(1 - (alpha / 2), n - 1)\n",
    "    return round(mu - t * (sigma / np.sqrt(n)), 3), round(mu + t * (sigma / np.sqrt(n)), 3)\n",
    "\n",
    "\n",
    "x = np.array([6.9, 6.1, 6.2, 6.8, 7.5, 6.3, 6.4, 6.9, 6.7, 6.1])\n",
    "\n",
    "confidence_interval(x)"
   ]
  },
  {
   "attachments": {},
   "cell_type": "markdown",
   "metadata": {},
   "source": [
    "Доверительный интервал 95% для оценки истинного значения = [6.268, 6.912]"
   ]
  },
  {
   "cell_type": "markdown",
   "metadata": {},
   "source": [
    "**2. В результате 10 независимых измерений некоторой величины X, выполненных с одинаковой точностью, получены опытные данные:**\n",
    "**6.9, 6.1, 6.2, 6.8, 7.5, 6.3, 6.4, 6.9, 6.7, 6.1**\n",
    "\n",
    "**Предполагая, что результаты измерений подчинены нормальному закону распределения вероятностей, оценить истинное значение величины X при помощи доверительного интервала, покрывающего это значение с доверительной вероятностью 0,95.**"
   ]
  },
  {
   "cell_type": "code",
   "execution_count": 3,
   "metadata": {},
   "outputs": [
    {
     "data": {
      "text/plain": [
       "(-10.068418034506857, 6.268418034506846)"
      ]
     },
     "execution_count": 3,
     "metadata": {},
     "output_type": "execute_result"
    }
   ],
   "source": [
    "import numpy as np \n",
    "import scipy.stats as stats \n",
    "\n",
    "def lu(x, y):\n",
    "    lengths = (len(x), len(y))\n",
    "    delta = np.mean(x) - np.mean(y)\n",
    "    dispersion = 0.5 * (np.var(x, ddof=1) + np.var(y, ddof=1))\n",
    "    s_e = np.sqrt((dispersion / lengths[0]) + (dispersion / lengths[1]))\n",
    "    t = stats.t.ppf(0.975, 2 * (lengths[0] - 1))\n",
    "    return delta - t * s_e, delta + t * s_e\n",
    "\n",
    "\n",
    "x = np.array([175, 167, 154, 174, 178, 148, 160, 167, 169, 170])\n",
    "y = np.array([178, 165, 165, 173, 168, 155, 160, 164, 178, 175])\n",
    "\n",
    "lu(x, y)"
   ]
  },
  {
   "attachments": {},
   "cell_type": "markdown",
   "metadata": {},
   "source": [
    "Доверительный интервал 95% для оценки разности среднего роста родителей и детей [-10.07, 6.27]. Так как в интервале имеется 0, значит принимаем нулевую гипотезу и на основании этого делаем вывод, что статистических различий между ростом матерей и дочерей нет."
   ]
  }
 ],
 "metadata": {
  "kernelspec": {
   "display_name": "Python 3",
   "language": "python",
   "name": "python3"
  },
  "language_info": {
   "codemirror_mode": {
    "name": "ipython",
    "version": 3
   },
   "file_extension": ".py",
   "mimetype": "text/x-python",
   "name": "python",
   "nbconvert_exporter": "python",
   "pygments_lexer": "ipython3",
   "version": "3.8.2"
  },
  "orig_nbformat": 4,
  "vscode": {
   "interpreter": {
    "hash": "31f2aee4e71d21fbe5cf8b01ff0e069b9275f58929596ceb00d14d90e3e16cd6"
   }
  }
 },
 "nbformat": 4,
 "nbformat_minor": 2
}
